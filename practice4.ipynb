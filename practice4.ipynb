{
 "cells": [
  {
   "cell_type": "code",
   "execution_count": null,
   "id": "ef0b1e94",
   "metadata": {},
   "outputs": [],
   "source": [
    "# Uses of functions"
   ]
  },
  {
   "cell_type": "code",
   "execution_count": null,
   "id": "bae4966c",
   "metadata": {},
   "outputs": [],
   "source": [
    "num= int(input(\"enter the no for which factorial has to taken out :\"))\n",
    "\n",
    "fact= 1\n",
    "\n",
    "for i in range(num , 0 ,-1) :\n",
    "    fact = fact * i\n",
    "    \n",
    "    \n",
    "print(f\"factorial of  {num}= {fact}\")\n"
   ]
  },
  {
   "cell_type": "code",
   "execution_count": null,
   "id": "b07c7e51",
   "metadata": {},
   "outputs": [],
   "source": [
    "num = int( input(\"Write the Number for which Factorial needs to be Found : \") )\n",
    "fact = 1\n",
    "for i in range( num , 0, -1 ) : \n",
    "    fact = fact * i\n",
    "\n",
    "print(f\"Factorial of {num} = {fact}\")  \n"
   ]
  },
  {
   "cell_type": "code",
   "execution_count": null,
   "id": "9a059818",
   "metadata": {},
   "outputs": [],
   "source": [
    "def findFactorial() :            \n",
    "    num = int( input(\"Write the Number for which Factorial needs to be Found : \") )\n",
    "    fact = 1\n",
    "    for i in range( num , 0, -1 ) : \n",
    "        fact = fact * i\n",
    "        \n",
    "    print(f\"Factorial of {num} = {fact}\")  \n",
    "\n",
    "findFactorial()"
   ]
  },
  {
   "cell_type": "code",
   "execution_count": null,
   "id": "8a6ac8aa",
   "metadata": {},
   "outputs": [],
   "source": [
    "def findfactorial() :\n",
    "    num= int(input(\"write the number for which factorial to be found :\"))\n",
    "    fact = 1 \n",
    "    for i in range(num , 0 , -1) :\n",
    "        fact= fact * i\n",
    "        \n",
    "    print(f\"factorial of {num} = {fact}\")\n",
    "findfactorial()"
   ]
  },
  {
   "cell_type": "code",
   "execution_count": null,
   "id": "db064bec",
   "metadata": {},
   "outputs": [],
   "source": [
    "getsquareroot2 = lambda x : x ** 5 \n",
    "print(getsquareroot2(5))"
   ]
  },
  {
   "cell_type": "code",
   "execution_count": null,
   "id": "0a871f53",
   "metadata": {},
   "outputs": [],
   "source": [
    "mystring = \"python\"\n",
    "mystring.capitalize"
   ]
  },
  {
   "cell_type": "code",
   "execution_count": null,
   "id": "366cd97a",
   "metadata": {},
   "outputs": [],
   "source": [
    "#Arguments\n",
    "\n",
    "def area_circle(r, p ) :\n",
    "    return p * r * r\n",
    "    \n",
    "\n",
    "print(area_circle(p= 3.14 ,r = 10))\n"
   ]
  },
  {
   "cell_type": "code",
   "execution_count": null,
   "id": "63c2a7d3",
   "metadata": {},
   "outputs": [],
   "source": [
    "even_or_odd = lambda x : \"even\" if x%2 ==0 else \"odd\"\n",
    "print(even_or_odd(11))\n"
   ]
  },
  {
   "cell_type": "code",
   "execution_count": null,
   "id": "894eb852",
   "metadata": {},
   "outputs": [],
   "source": [
    "palindrome = lambda x : \"palindrome\" if x[ : : 1] == x[ : : -1] else \"not palindrome\"\n",
    "print(palindrome(\"madam\"))\n",
    "print(palindrome(\"12345\"))\n"
   ]
  },
  {
   "cell_type": "code",
   "execution_count": null,
   "id": "a62b602b",
   "metadata": {},
   "outputs": [],
   "source": [
    "def palindrome() :\n",
    "    if word[ : : 1] == word[: : -1] :\n",
    "        return\"palindrome\"\n",
    "    else :\n",
    "        return\"not a palindrome\"\n",
    "word = str(input(\"enter the word :\"))\n",
    "print(palindrome)\n",
    "\n",
    "\n",
    "palindrome()   "
   ]
  },
  {
   "cell_type": "code",
   "execution_count": null,
   "id": "6d98729b",
   "metadata": {},
   "outputs": [],
   "source": [
    "# For the given list find out the Even  Numbers ONLY\n",
    "numbers = [ 2, 5, 11, 0, 8, 6, 13, 23, 45  ]\n",
    "\n",
    "even_no = []\n",
    "\n",
    "for i in numbers :\n",
    "    if i%2 == 0 :\n",
    "        even_no.append(i)\n",
    "print(even_no)\n"
   ]
  },
  {
   "cell_type": "code",
   "execution_count": null,
   "id": "7b907dcb",
   "metadata": {},
   "outputs": [],
   "source": [
    "def even_no(w) :\n",
    "    if w % 2 == 0 :\n",
    "        return True\n",
    "    else :\n",
    "        return False\n",
    "output =  tuple(filter(even_no,numbers))\n",
    "print(output)"
   ]
  },
  {
   "cell_type": "code",
   "execution_count": 19,
   "id": "0ac2739c",
   "metadata": {},
   "outputs": [
    {
     "name": "stdout",
     "output_type": "stream",
     "text": [
      "enter no : 5\n",
      "1\n"
     ]
    }
   ],
   "source": [
    "# For the given list find the factorial of the numbers...\n",
    "# Apply all possible Ways 1 - 4 shared Above\n",
    "numbers = [ 2, 5, 11, -3, 0, 8, -4, 6  ]\n",
    "numb = 1\n",
    "\n",
    "\n",
    "value= int(input(\"enter no : \")) \n",
    "\n",
    "\n",
    "for i in range(value ,0, -1) :\n",
    "    numb = numb * i \n",
    "    \n",
    "print(i)\n",
    "    \n"
   ]
  },
  {
   "cell_type": "code",
   "execution_count": 28,
   "id": "4c1b094b",
   "metadata": {},
   "outputs": [
    {
     "ename": "SyntaxError",
     "evalue": "invalid syntax (2861104061.py, line 9)",
     "output_type": "error",
     "traceback": [
      "\u001b[1;36m  File \u001b[1;32m\"C:\\Users\\Umair Ahmed\\AppData\\Local\\Temp\\ipykernel_5084\\2861104061.py\"\u001b[1;36m, line \u001b[1;32m9\u001b[0m\n\u001b[1;33m    print(result)\u001b[0m\n\u001b[1;37m    ^\u001b[0m\n\u001b[1;31mSyntaxError\u001b[0m\u001b[1;31m:\u001b[0m invalid syntax\n"
     ]
    }
   ],
   "source": [
    "#For the given list find the factorial of the numbers...\n",
    "# Apply all possible Ways 1 - 4 shared Above\n",
    "\n",
    "numbers = [ 2, 5, 11, -3, 0, 8, -4, 6  ]\n",
    "\n",
    "factorial= lambda x, y: x*y\n",
    "result= list(filter(factorial,numbers())\n",
    "             \n",
    "print(result)\n",
    "\n"
   ]
  },
  {
   "cell_type": "code",
   "execution_count": null,
   "id": "d2930f55",
   "metadata": {},
   "outputs": [],
   "source": []
  },
  {
   "cell_type": "code",
   "execution_count": 20,
   "id": "3e904291",
   "metadata": {},
   "outputs": [
    {
     "name": "stdout",
     "output_type": "stream",
     "text": [
      "Write the Number for which Factorial needs to be Found : 5\n",
      "Factorial of 5 = 120\n"
     ]
    }
   ],
   "source": [
    "num = int( input(\"Write the Number for which Factorial needs to be Found : \") )\n",
    "fact = 1\n",
    "for i in range( num , 0, -1 ) : \n",
    "    fact = fact * i\n",
    "\n",
    "print(f\"Factorial of {num} = {fact}\")  \n"
   ]
  },
  {
   "cell_type": "code",
   "execution_count": 9,
   "id": "2edf7d49",
   "metadata": {},
   "outputs": [
    {
     "name": "stdout",
     "output_type": "stream",
     "text": [
      "[4, 25, 121, 9, 0, 64, 16, 36]\n"
     ]
    }
   ],
   "source": [
    "# For the given list find the Square of the numbers...\n",
    "# Apply all possible Ways 1 - 4 shared Above\n",
    "numbers = [ 2, 5, 11, -3, 0, 8, -4, 6  ]\n",
    "\n",
    "\n",
    "square_no = lambda x : x**2\n",
    "res1= [square_no(each)for each in numbers]\n",
    "print(res1)"
   ]
  },
  {
   "cell_type": "code",
   "execution_count": 16,
   "id": "def69975",
   "metadata": {},
   "outputs": [
    {
     "name": "stdout",
     "output_type": "stream",
     "text": [
      "[2, 5, 11, -3, 8, -4, 6]\n"
     ]
    }
   ],
   "source": [
    "# For the given list find the Square of the numbers...\n",
    "# Apply all possible Ways 1 - 4 shared Above\n",
    "numbers = [ 2, 5, 11, -3, 0, 8, -4, 6  ]\n",
    "\n",
    "\n",
    "square_no = lambda x : x**2\n",
    "\n",
    "res2= list(filter(square_no,numbers))\n",
    "print(res2)           "
   ]
  },
  {
   "cell_type": "code",
   "execution_count": 36,
   "id": "17327673",
   "metadata": {},
   "outputs": [
    {
     "name": "stdout",
     "output_type": "stream",
     "text": [
      "squareroot of number : 1.7320508075688772\n"
     ]
    }
   ],
   "source": [
    "import math\n",
    "print(\"squareroot of number :\", math.sqrt(3))"
   ]
  },
  {
   "cell_type": "code",
   "execution_count": 37,
   "id": "7c7fe569",
   "metadata": {},
   "outputs": [
    {
     "name": "stderr",
     "output_type": "stream",
     "text": [
      "Unable to create process using 'C:\\Users\\Umair Ahmed\\anaconda3\\python.exe \"C:\\Users\\Umair Ahmed\\anaconda3\\Scripts\\pip-script.py\" install pandas'\n"
     ]
    }
   ],
   "source": [
    "!pip install pandas"
   ]
  }
 ],
 "metadata": {
  "kernelspec": {
   "display_name": "Python 3 (ipykernel)",
   "language": "python",
   "name": "python3"
  },
  "language_info": {
   "codemirror_mode": {
    "name": "ipython",
    "version": 3
   },
   "file_extension": ".py",
   "mimetype": "text/x-python",
   "name": "python",
   "nbconvert_exporter": "python",
   "pygments_lexer": "ipython3",
   "version": "3.9.13"
  }
 },
 "nbformat": 4,
 "nbformat_minor": 5
}
