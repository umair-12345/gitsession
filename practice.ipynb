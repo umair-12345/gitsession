{
 "cells": [
  {
   "cell_type": "code",
   "execution_count": null,
   "id": "b5b5463a",
   "metadata": {},
   "outputs": [],
   "source": [
    "number1 = 20\n",
    "number2 = 30\n",
    "product = number1 * number2\n",
    "sum = number1 + number2\n",
    "print(product)\n",
    "\n",
    "if product <= 500 :\n",
    "    print(\"their product : \" ,product )\n",
    "else :\n",
    "    print(\"there sum :\" , sum)\n",
    "  "
   ]
  },
  {
   "cell_type": "code",
   "execution_count": 37,
   "id": "2f84a29b",
   "metadata": {},
   "outputs": [
    {
     "name": "stdout",
     "output_type": "stream",
     "text": [
      "['a', 'l', 't', 'h', 'o', 'u', 'g', 'h', ' ', '8', ' ', 't', 'h', 'a', 't', ' ', 'w', 'a', 'y', ' ', 'm', 'a', 'y', ' ', 'n', 'o', 't', ' ', 'b', 'e', ' ', 'o', 'b', 'v', 'i', 'o', 'u', 's', ' ', 'a', 't', ' ', 'f', 'i', 'r', 's', 't', ' ', 'u', 'n', 'l', 'e', 's', 's', ' ', 'y', 'o', 'u', \"'\", 'r', 'e', ' ', 'D', 'u', 't', 'c', 'h']\n"
     ]
    },
    {
     "ename": "AttributeError",
     "evalue": "'list' object has no attribute 'split'",
     "output_type": "error",
     "traceback": [
      "\u001b[1;31m---------------------------------------------------------------------------\u001b[0m",
      "\u001b[1;31mAttributeError\u001b[0m                            Traceback (most recent call last)",
      "\u001b[1;32m~\\AppData\\Local\\Temp\\ipykernel_22592\\1737857434.py\u001b[0m in \u001b[0;36m<module>\u001b[1;34m\u001b[0m\n\u001b[0;32m      3\u001b[0m \u001b[0mmy_list\u001b[0m \u001b[1;33m=\u001b[0m \u001b[0mlist\u001b[0m\u001b[1;33m(\u001b[0m\u001b[0mmy_str\u001b[0m\u001b[1;33m)\u001b[0m\u001b[1;33m\u001b[0m\u001b[1;33m\u001b[0m\u001b[0m\n\u001b[0;32m      4\u001b[0m \u001b[0mprint\u001b[0m\u001b[1;33m(\u001b[0m\u001b[0mmy_list\u001b[0m\u001b[1;33m)\u001b[0m\u001b[1;33m\u001b[0m\u001b[1;33m\u001b[0m\u001b[0m\n\u001b[1;32m----> 5\u001b[1;33m \u001b[0mmy_list\u001b[0m\u001b[1;33m.\u001b[0m\u001b[0msplit\u001b[0m\u001b[1;33m(\u001b[0m\u001b[1;34m\"w\"\u001b[0m\u001b[1;33m)\u001b[0m\u001b[1;33m\u001b[0m\u001b[1;33m\u001b[0m\u001b[0m\n\u001b[0m\u001b[0;32m      6\u001b[0m \u001b[0mmy_str\u001b[0m \u001b[1;33m=\u001b[0m \u001b[1;34m\" \"\u001b[0m\u001b[1;33m.\u001b[0m\u001b[0mjoin\u001b[0m\u001b[1;33m(\u001b[0m\u001b[0mmy_list\u001b[0m\u001b[1;33m)\u001b[0m\u001b[1;33m\u001b[0m\u001b[1;33m\u001b[0m\u001b[0m\n\u001b[0;32m      7\u001b[0m \u001b[0mprint\u001b[0m\u001b[1;33m(\u001b[0m\u001b[0mmy_str\u001b[0m\u001b[1;33m)\u001b[0m\u001b[1;33m\u001b[0m\u001b[1;33m\u001b[0m\u001b[0m\n",
      "\u001b[1;31mAttributeError\u001b[0m: 'list' object has no attribute 'split'"
     ]
    }
   ],
   "source": [
    "my_str = \"although 8 that way may not be obvious at first unless you're Dutch\"\n",
    "\n",
    "my_list = list(my_str)\n",
    "print(my_list)\n",
    "my_list.split(\"\")\n",
    "my_str = \" \".join(my_list)\n",
    "print(my_str)"
   ]
  },
  {
   "cell_type": "code",
   "execution_count": null,
   "id": "c1542c83",
   "metadata": {},
   "outputs": [],
   "source": [
    "my_str = \"although 8 that way may not be obvious at first unless you're Dutch\"\n"
   ]
  },
  {
   "cell_type": "code",
   "execution_count": 33,
   "id": "08ecbc30",
   "metadata": {},
   "outputs": [
    {
     "name": "stdout",
     "output_type": "stream",
     "text": [
      "2060\n"
     ]
    }
   ],
   "source": [
    "myy_string = \"Write a Python Program, to print all the indexes of all occurences of letter 'p' appeared in the string\"\n",
    "    \n",
    "count = 0 \n",
    "\n",
    "for i in myy_string :\n",
    "    count = count + 1\n",
    "print(count)"
   ]
  },
  {
   "cell_type": "code",
   "execution_count": 29,
   "id": "d5cf87b8",
   "metadata": {},
   "outputs": [
    {
     "data": {
      "text/plain": [
       "'**python**'"
      ]
     },
     "execution_count": 29,
     "metadata": {},
     "output_type": "execute_result"
    }
   ],
   "source": [
    "word= \"python\"\n",
    "word.ljust(8, \"*\").rjust(10, \"*\")\n"
   ]
  },
  {
   "cell_type": "code",
   "execution_count": null,
   "id": "02cc0724",
   "metadata": {},
   "outputs": [],
   "source": [
    "#Q6. You have been given a dictionary highlighting names and their mobile numbers.\n",
    "# WAP to find out the mobile number of person by taking its name from user.\n",
    "# dictionary = {\"nitish\" : 7503286013, \n",
    "#              \"shweta\" : 7451425810, \n",
    "#              \"pawan\" :  9987542140, \n",
    "#              \"aman\" : 3074514520, \n",
    "#              \"pravesh\"  7452479585: \n",
    "#               \"aastha\" : 8888999997, \n",
    "#               \"pooja\" : 4458777789}\n",
    "\n",
    "\n",
    "dictionary = {\"nitish\" : 7503286013, \n",
    "              \"shweta\" : 7451425810, \n",
    "              \"pawan\" :  9987542140, \n",
    "              \"aman\" : 3074514520, \n",
    "              \"pravesh\" :  7452479585, \n",
    "               \"aastha\" : 8888999997, \n",
    "               \"pooja\" : 4458777789}\n",
    "\n",
    "inputname= input(\"mention name :\")\n",
    "if inputname in dictionary :\n",
    "    print(f\"mobile no : {dictionary[inputname]}\")\n",
    "else :\n",
    "    print(\"no such name is there\")\n",
    "\n",
    "\n",
    "    "
   ]
  },
  {
   "cell_type": "code",
   "execution_count": null,
   "id": "e9ce6162",
   "metadata": {},
   "outputs": [],
   "source": [
    "#Q1. Find the number of vowels and digits and spaces from the below string..\n",
    "mystring =\"this is the python programming batch of febuary\"\n",
    "myString = \"this is the python programming batch of february\"\n",
    "\n",
    "# Count vowels\n",
    "vowels = 0\n",
    "for char in myString:\n",
    "    if char in \"aeiou\":\n",
    "        vowels = vowels + 1\n",
    "         \n",
    "\n",
    "# Count digits\n",
    "digits = 0\n",
    "for char in myString:\n",
    "    if char.isdigit():\n",
    "        digits= digits + 1\n",
    "\n",
    "# Count spaces\n",
    "spaces = 0\n",
    "for char in myString:\n",
    "    if char.isspace():\n",
    "        spaces= spaces + 1\n",
    "\n",
    "# Print results\n",
    "print(\"Number of vowels:\", vowels)\n",
    "print(\"Number of digits:\", digits)\n",
    "print(\"Number of spaces:\", spaces)\n",
    "\n"
   ]
  },
  {
   "cell_type": "code",
   "execution_count": null,
   "id": "af50911e",
   "metadata": {},
   "outputs": [],
   "source": []
  },
  {
   "cell_type": "code",
   "execution_count": null,
   "id": "49aba1ab",
   "metadata": {},
   "outputs": [],
   "source": []
  },
  {
   "cell_type": "code",
   "execution_count": null,
   "id": "e1e86770",
   "metadata": {},
   "outputs": [],
   "source": []
  },
  {
   "cell_type": "code",
   "execution_count": null,
   "id": "e3c2caf9",
   "metadata": {},
   "outputs": [],
   "source": [
    "previous_num = 0\n",
    "\n",
    "# loop from 1 to 10\n",
    "for i in range(1, 11):\n",
    "    x_sum = previous_num + i\n",
    "    print(\"Current Number\", i, \"Previous Number \", previous_num, \" Sum: \", x_sum)\n",
    "    # modify previous number\n",
    "    # set it to the current number\n",
    "    previous_num = i\n",
    "    "
   ]
  },
  {
   "cell_type": "code",
   "execution_count": null,
   "id": "fd2c2847",
   "metadata": {},
   "outputs": [],
   "source": [
    "word = int(\"python\") # p y t h o n\n",
    "for i in range( 0 , len(word) ) : \n",
    "    print(i + int)\n"
   ]
  },
  {
   "cell_type": "code",
   "execution_count": null,
   "id": "dd8daea6",
   "metadata": {},
   "outputs": [],
   "source": [
    "previous_num = 0\n",
    "\n",
    "# loop from 1 to 10\n",
    "for i in range(1, 11):\n",
    "    x_sum = previous_num + i\n",
    "    print(\"Current Number\", i, \"Previous Number \", previous_num, \" Sum: \", x_sum)\n",
    "    # modify previous number\n",
    "    # set it to the current number\n",
    "    previous_num = i"
   ]
  },
  {
   "cell_type": "code",
   "execution_count": null,
   "id": "56b5b011",
   "metadata": {},
   "outputs": [],
   "source": [
    "word = \n",
    "for word in range(0, 7):\n",
    "    print(word[0:4])"
   ]
  },
  {
   "cell_type": "code",
   "execution_count": null,
   "id": "8dc78744",
   "metadata": {},
   "outputs": [],
   "source": [
    "word= \"pynative\"\n",
    "for i in range(0, len(word)):\n",
    "    print(word[3:8])\n"
   ]
  },
  {
   "cell_type": "code",
   "execution_count": null,
   "id": "a704a0ad",
   "metadata": {},
   "outputs": [],
   "source": [
    "for I in range(0,6) :\n",
    "    print(I * str(I)) \n"
   ]
  },
  {
   "cell_type": "code",
   "execution_count": null,
   "id": "9bafdaee",
   "metadata": {},
   "outputs": [],
   "source": [
    "#  Write a Program to extract each digit from an integer in the reverse order.\n",
    "# For example, If the given int is 7536, the output shall be “6 3 5 7“, with a space separating the digits.\n",
    "\n",
    "no = 7536\n",
    "digit= 0\n",
    "if no > digit :\n",
    "    print(\"6 3 5 7 \")\n",
    "else :\n",
    "    print(\"7536\")"
   ]
  },
  {
   "cell_type": "code",
   "execution_count": null,
   "id": "806fab8c",
   "metadata": {},
   "outputs": [],
   "source": [
    "number = 7536\n",
    "print(\"Given number\", number)\n",
    "while number > 0:\n",
    "    # get the last digit\n",
    "    digit = number % 10\n",
    "    # remove the last digit and repeat the loop\n",
    "    number = number // 10\n",
    "    print(digit, end=\" \")\n"
   ]
  },
  {
   "cell_type": "code",
   "execution_count": null,
   "id": "48c7be7a",
   "metadata": {},
   "outputs": [],
   "source": []
  },
  {
   "cell_type": "code",
   "execution_count": null,
   "id": "d6f255ab",
   "metadata": {},
   "outputs": [],
   "source": []
  },
  {
   "cell_type": "code",
   "execution_count": null,
   "id": "3ed0a2ca",
   "metadata": {},
   "outputs": [],
   "source": [
    "for I in range (1,6):\n",
    "    print (I *  str(I))"
   ]
  },
  {
   "cell_type": "code",
   "execution_count": null,
   "id": "fc73e4c6",
   "metadata": {},
   "outputs": [],
   "source": []
  },
  {
   "cell_type": "code",
   "execution_count": null,
   "id": "d2d2948f",
   "metadata": {},
   "outputs": [],
   "source": [
    "stringname = \"python java ruby\"\n",
    "\n",
    "for s in range(0 , len(stringname) ) :\n",
    "    if stringname[s] == \" \" :\n",
    "        print(\"found the space\")\n",
    "        break\n",
    "        print(\"command executed\")\n",
    "        \n",
    "else :\n",
    "    print(stringname[s])\n",
    "        \n",
    "        \n",
    "    \n",
    "        \n",
    "    \n"
   ]
  },
  {
   "cell_type": "code",
   "execution_count": null,
   "id": "cddc9dc9",
   "metadata": {},
   "outputs": [],
   "source": [
    "w1 = \"there\"\n",
    "print(sorted(w1))\n",
    "w2 = \"their\"\n",
    "print(sorted(w2))\n",
    "if sorted(w1) == sorted(w2) :\n",
    "    print(\"anagrams\")\n",
    "    \n",
    "else:\n",
    "    print(\"not a anagram\")\n"
   ]
  },
  {
   "cell_type": "code",
   "execution_count": null,
   "id": "36e98877",
   "metadata": {},
   "outputs": [],
   "source": [
    "msg= \"an otp 8758 is sent to ur mobile phone\"\n",
    "for i in range (0, len(msg)) :\n",
    "    if msg[i].isdigit() :\n",
    "        print(msg[i])"
   ]
  },
  {
   "cell_type": "code",
   "execution_count": null,
   "id": "f4f5d32f",
   "metadata": {},
   "outputs": [],
   "source": [
    "s1 = [ 11, 3.25, False, 6j, \"blue\", \"orange\", -8 ]\n",
    "print(s1)\n",
    "\n",
    "s1.append(55)\n",
    "print(s1)\n",
    "\n",
    "s1.append(6j)\n",
    "print(s1)"
   ]
  },
  {
   "cell_type": "code",
   "execution_count": null,
   "id": "27b9aa66",
   "metadata": {},
   "outputs": [],
   "source": [
    "s1 = [ 11, 3.25, False, 6j, \"blue\", \"orange\", -8 ]\n",
    "print(s1)\n",
    "\n",
    "s1.insert(5,55)\n",
    "print(s1)"
   ]
  },
  {
   "cell_type": "code",
   "execution_count": null,
   "id": "307c21b0",
   "metadata": {},
   "outputs": [],
   "source": [
    "s1 = [ 11, 3.25, False, 6j, \"blue\", \"orange\", -8 ]\n",
    "print(s1)\n",
    "\n",
    "s1[2]= True\n",
    "print(s1)"
   ]
  },
  {
   "cell_type": "code",
   "execution_count": null,
   "id": "440567d2",
   "metadata": {},
   "outputs": [],
   "source": [
    "s1 = [ 11, 3.25, False, 6j, \"blue\", \"orange\", -8 ]\n",
    "print(s1)\n",
    "\n",
    "# display first 2 elements...\n",
    "print(s1[0 : 4 : 1])\n",
    "print(s1[2:6:2])"
   ]
  },
  {
   "cell_type": "code",
   "execution_count": null,
   "id": "b25035c3",
   "metadata": {},
   "outputs": [],
   "source": [
    "# 4. concat : merge 2 or more list to make a single list\n",
    "# list1 + list2 + list3 + ....\n",
    "a= [2,3,4,-5]\n",
    "b= [5,4,3,2, -6]\n",
    "print(a + b)\n",
    "\n",
    "c= a + b\n",
    "print(c)"
   ]
  },
  {
   "cell_type": "code",
   "execution_count": null,
   "id": "938623b2",
   "metadata": {},
   "outputs": [],
   "source": [
    "a = [4, -1, \"k\", 11, 2.5, \"b\"]\n",
    "\n",
    "# repeat list 3 times\n",
    "print( a * 5 )"
   ]
  },
  {
   "cell_type": "code",
   "execution_count": null,
   "id": "2cfd8c02",
   "metadata": {},
   "outputs": [],
   "source": [
    "a= [2py]\n",
    "print(a*5)"
   ]
  },
  {
   "cell_type": "code",
   "execution_count": null,
   "id": "d2ffc612",
   "metadata": {},
   "outputs": [],
   "source": [
    "x = [ 11, 3.25, False, 6j, [5, 4, 9, 11, 20], \"blue\", \"orange\", -8  ]\n",
    "print(x)\n",
    "print(x[4][4])"
   ]
  },
  {
   "cell_type": "code",
   "execution_count": null,
   "id": "d4d0f556",
   "metadata": {},
   "outputs": [],
   "source": [
    "# extarct date, month and year\n",
    "# date = 25\n",
    "# month = 02\n",
    "# year = 2023\n",
    "\n",
    "msg = \"hey alexa, set a reminder to wish my friend on 25/02/2023\"\n",
    "w = msg.split(\" \")\n",
    "print(w)\n",
    "print(w[-1])\n",
    "\n",
    "res  = msg.split(\" \")[-1].split(\"/\")\n",
    "print(res)\n",
    "print( \"Date = \", res[0] )\n",
    "print( \"Month = \", res[1] )\n",
    "print( \"Year = \", res[2] )"
   ]
  },
  {
   "cell_type": "code",
   "execution_count": null,
   "id": "ac030360",
   "metadata": {},
   "outputs": [],
   "source": [
    "\n",
    "msg = \"hey alexa, set a reminder to wish my friend on 25/02/2023\"\n",
    "w= msg.split(\" \")\n",
    "print(w)\n",
    "print(w[-1])\n",
    "\n",
    "res= msg.split(\" \")[-1].split(\"/\")\n",
    "print(res)\n",
    "print(\"date =\", res[0])"
   ]
  },
  {
   "cell_type": "code",
   "execution_count": null,
   "id": "52dfe694",
   "metadata": {},
   "outputs": [],
   "source": [
    "# Extract the otp\n",
    "# Extract the mobile\n",
    "# Extract the email\n",
    "\n",
    "\n",
    "yourmessage = \"The OTP to authorise current transaction is 15875 and its shared on 8745821035 and nitish@gmail.com\"\n",
    "msg= yourmessage.split(\" \")\n",
    "print(msg)\n",
    "\n",
    "print(\"Email :\", msg[-1])\n",
    "print(\"mobile no : \", msg[-3])\n",
    "print(\"OTP : \" , msg[-8])\n",
    "\n",
    "for each in msg :\n",
    "    print(each) \n",
    "    \n",
    "if \"@\" in each :\n",
    "    print(\"email adress : \", each) \n",
    "    \n",
    "for each in msg : \n",
    "    \n",
    "    if each.isdigit() and len(each) != 10 :\n",
    "        print(\"otp :\" , each)\n",
    "        \n",
    "    \n"
   ]
  },
  {
   "cell_type": "code",
   "execution_count": null,
   "id": "ec0f8801",
   "metadata": {},
   "outputs": [],
   "source": [
    "mystring = \"this is the python programming batch of febuary\"\n",
    "vowels= \"a , e , i , o , u\"\n",
    "\n",
    "for i in range(0, len(mystring) :\n",
    "               print(mystring)\n",
    "               \n",
    "    "
   ]
  },
  {
   "cell_type": "code",
   "execution_count": null,
   "id": "8063caf6",
   "metadata": {},
   "outputs": [],
   "source": [
    "#dictionary\n",
    "d1 = {}\n",
    "print(type(d1))"
   ]
  },
  {
   "cell_type": "code",
   "execution_count": null,
   "id": "51a893ee",
   "metadata": {},
   "outputs": [],
   "source": [
    "d2= {\"hasnain\" : \"burger\" ,\n",
    "     \"rohan\" : \"fish\",\n",
    "    \"ammar\" : \"murga\",\n",
    "    \"shubam\" : {\"lunch\" : \"Beaf\", \"dinner\" : \"maggie\" , \"breakfast\" : \"bread\"}}\n",
    "print(d2[\"shubam\"][\"dinner\"])\n",
    "\n",
    "d2[\"ankit\"]= \"junk food\"\n",
    "print(d2)\n",
    "del d2[\"ammar\"]\n",
    "print(d2)\n",
    "\n",
    "d2.update({\"kareena\" : \"fruits\"})\n",
    "print(d2)\n"
   ]
  },
  {
   "cell_type": "code",
   "execution_count": null,
   "id": "7ad7d872",
   "metadata": {},
   "outputs": [],
   "source": [
    "myString = \"this is the python programming batch of february\"\n",
    "myString = \"this is the python programming batch of february\"\n",
    "myString = \"this is the python programming batch of february\"\n",
    "\n",
    "vowels = 0\n",
    "digits = 0\n",
    "spaces = 0\n",
    "\n",
    "        \n",
    "# Count vowels\n",
    "vowels = 0\n",
    "for char in myString:\n",
    "    if char in \"aeiou\":\n",
    "        vowels = vowels + 1\n",
    "         \n",
    "  \n",
    "# Count digits\n",
    "digits = 0\n",
    "for char in myString:\n",
    "    if char.isdigit():\n",
    "        digits += 1\n",
    "        \n",
    "\n",
    "        \n",
    "for char in mystring :\n",
    "    if char.isspace() :\n",
    "        spaces = spaces + 1\n",
    "        \n",
    "        \n",
    "print(\"no of vowels :\" , vowels)\n",
    "print(\"no of digit :\" , digit)\n",
    "print(\"no of spaces :\" , spaces)\n",
    "    "
   ]
  },
  {
   "cell_type": "code",
   "execution_count": 3,
   "id": "f1de56f2",
   "metadata": {},
   "outputs": [
    {
     "name": "stdout",
     "output_type": "stream",
     "text": [
      "madam\n"
     ]
    },
    {
     "ename": "NameError",
     "evalue": "name 'outputList' is not defined",
     "output_type": "error",
     "traceback": [
      "\u001b[1;31m---------------------------------------------------------------------------\u001b[0m",
      "\u001b[1;31mNameError\u001b[0m                                 Traceback (most recent call last)",
      "\u001b[1;32m~\\AppData\\Local\\Temp\\ipykernel_22592\\1858740491.py\u001b[0m in \u001b[0;36m<module>\u001b[1;34m\u001b[0m\n\u001b[0;32m     12\u001b[0m \u001b[1;33m\u001b[0m\u001b[0m\n\u001b[0;32m     13\u001b[0m     \u001b[1;32mif\u001b[0m \u001b[0mstr\u001b[0m\u001b[1;33m(\u001b[0m\u001b[0mi\u001b[0m\u001b[1;33m)\u001b[0m\u001b[1;33m[\u001b[0m \u001b[1;33m:\u001b[0m \u001b[1;33m:\u001b[0m \u001b[1;36m1\u001b[0m\u001b[1;33m]\u001b[0m \u001b[1;33m==\u001b[0m \u001b[0mstr\u001b[0m\u001b[1;33m(\u001b[0m\u001b[0mi\u001b[0m\u001b[1;33m)\u001b[0m\u001b[1;33m[\u001b[0m \u001b[1;33m:\u001b[0m \u001b[1;33m:\u001b[0m \u001b[1;33m-\u001b[0m\u001b[1;36m1\u001b[0m\u001b[1;33m]\u001b[0m \u001b[1;33m:\u001b[0m\u001b[1;33m\u001b[0m\u001b[1;33m\u001b[0m\u001b[0m\n\u001b[1;32m---> 14\u001b[1;33m             \u001b[0moutputList\u001b[0m\u001b[1;33m.\u001b[0m\u001b[0mappend\u001b[0m\u001b[1;33m(\u001b[0m\u001b[0mi\u001b[0m\u001b[1;33m)\u001b[0m\u001b[1;33m\u001b[0m\u001b[1;33m\u001b[0m\u001b[0m\n\u001b[0m\u001b[0;32m     15\u001b[0m \u001b[1;33m\u001b[0m\u001b[0m\n\u001b[0;32m     16\u001b[0m \u001b[1;33m\u001b[0m\u001b[0m\n",
      "\u001b[1;31mNameError\u001b[0m: name 'outputList' is not defined"
     ]
    }
   ],
   "source": [
    "#Q2. find which of them is in palindromes\n",
    "#inputList = [\"madam\", \"naman\", \"12321\", \"7530\", False, 45621, 85258, \"ADDydda\"]\n",
    "#outputList = [\"madam\", \"naman\", \"12321\", 85258, \"ADDydda\"]\n",
    " \n",
    "inputlist = [\"madam\", \"naman\", \"12321\", \"7530\", False, 45621, 85258, \"ADDydda\"]\n",
    "\n",
    "\n",
    "outputlist = []\n",
    "\n",
    "for i in inputlist :\n",
    "    print(i)\n",
    "    \n",
    "    if str(i)[ : : 1] == str(i)[ : : -1] : \n",
    "            outputList.append(i)\n",
    "\n",
    "\n",
    "    \n",
    "\n",
    "print(outputlist)"
   ]
  },
  {
   "cell_type": "code",
   "execution_count": null,
   "id": "97404eff",
   "metadata": {},
   "outputs": [],
   "source": [
    "inputList = [\"madam\", \"naman\", \"12321\", \"7530\", False, 45621, 85258, \"ADDydda\"]\n",
    "\n",
    "outputList = []\n",
    "\n",
    "\n",
    "outputList = []\n",
    "for i in inputList : \n",
    "    print(i)\n",
    "    \n",
    "    if str(i).lower()[ : : 1] == str(i).lower()[ : : -1] : \n",
    "        outputList.append(i)\n",
    "        "
   ]
  },
  {
   "cell_type": "code",
   "execution_count": 41,
   "id": "849b478b",
   "metadata": {},
   "outputs": [
    {
     "ename": "AttributeError",
     "evalue": "'str' object has no attribute 'remove'",
     "output_type": "error",
     "traceback": [
      "\u001b[1;31m---------------------------------------------------------------------------\u001b[0m",
      "\u001b[1;31mAttributeError\u001b[0m                            Traceback (most recent call last)",
      "\u001b[1;32m~\\AppData\\Local\\Temp\\ipykernel_22592\\125378357.py\u001b[0m in \u001b[0;36m<module>\u001b[1;34m\u001b[0m\n\u001b[0;32m      1\u001b[0m \u001b[0mmy_str\u001b[0m \u001b[1;33m=\u001b[0m \u001b[1;34m\"although 8 that way may not be obvious at first unless you're Dutch\"\u001b[0m\u001b[1;33m\u001b[0m\u001b[1;33m\u001b[0m\u001b[0m\n\u001b[1;32m----> 2\u001b[1;33m \u001b[0mres\u001b[0m\u001b[1;33m=\u001b[0m \u001b[0mmy_str\u001b[0m\u001b[1;33m.\u001b[0m\u001b[0mremove\u001b[0m\u001b[1;33m(\u001b[0m\u001b[1;33m)\u001b[0m\u001b[1;33m\u001b[0m\u001b[1;33m\u001b[0m\u001b[0m\n\u001b[0m\u001b[0;32m      3\u001b[0m \u001b[0mprint\u001b[0m\u001b[1;33m(\u001b[0m\u001b[0mres\u001b[0m\u001b[1;33m)\u001b[0m\u001b[1;33m\u001b[0m\u001b[1;33m\u001b[0m\u001b[0m\n",
      "\u001b[1;31mAttributeError\u001b[0m: 'str' object has no attribute 'remove'"
     ]
    }
   ],
   "source": [
    "my_str = \"although 8 that way may not be obvious at first unless you're Dutch\"\n",
    "res= my_str.remove()\n",
    "print(res)\n"
   ]
  },
  {
   "cell_type": "code",
   "execution_count": 71,
   "id": "d27cdf21",
   "metadata": {},
   "outputs": [
    {
     "name": "stdout",
     "output_type": "stream",
     "text": [
      "['peter', 'piper', 'picked', 'a', 'peck', 'of', 'pickled', 'peppers.']\n",
      "['retep', 'repip', 'dekcip', 'a', 'kcep', 'fo', 'delkcip', '.sreppep']\n",
      "retep repip dekcip a kcep fo delkcip .sreppep\n"
     ]
    }
   ],
   "source": [
    "#Write a python program to find below output:-\n",
    "\n",
    "#Input:- 'peter piper picked a peck of pickled peppers.'\n",
    "#Output:- 'retep repip dekcip a kcep fo delkcip .sreppep'\n",
    "\n",
    "inputs= \"peter piper picked a peck of pickled peppers.\"\n",
    "\n",
    "result= inputs.split(\" \")\n",
    "print(result)\n",
    "\n",
    "newlist= []\n",
    "for i in result :\n",
    "    newlist.append(i[ : : -1])\n",
    "print(newlist)\n",
    "\n",
    "output = \" \".join(newlist)\n",
    "print(output)\n",
    "\n"
   ]
  }
 ],
 "metadata": {
  "kernelspec": {
   "display_name": "Python 3 (ipykernel)",
   "language": "python",
   "name": "python3"
  },
  "language_info": {
   "codemirror_mode": {
    "name": "ipython",
    "version": 3
   },
   "file_extension": ".py",
   "mimetype": "text/x-python",
   "name": "python",
   "nbconvert_exporter": "python",
   "pygments_lexer": "ipython3",
   "version": "3.9.13"
  }
 },
 "nbformat": 4,
 "nbformat_minor": 5
}
