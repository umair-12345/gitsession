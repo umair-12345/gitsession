{
 "cells": [
  {
   "cell_type": "code",
   "execution_count": null,
   "id": "b337d502",
   "metadata": {},
   "outputs": [],
   "source": [
    "# WAP to print all elements of a list using a for loop. \n",
    "#Take the elements of the list from the user.\n",
    "\n",
    "#For e.g. Input: l = [3,'Hi',67,0,12,0,8]\n",
    "       # Output: 3\n",
    "       #         'Hi'\n",
    "        #        67\n",
    "         #       0\n",
    "         #       12\n",
    "         #       0\n",
    "        #        8\n",
    "        \n",
    "inputs = [3,'Hi',67,0,12,0,8]     \n",
    "\n",
    "for i in range(0, len(inputs)) :\n",
    "    print(inputs[i])\n",
    "        "
   ]
  },
  {
   "cell_type": "code",
   "execution_count": null,
   "id": "c17c960f",
   "metadata": {},
   "outputs": [],
   "source": [
    " # WAP to save the cube of all numbers from 1 to a number n in list, \n",
    " # where n is taken as input from the user.\n",
    "\n",
    "# For e.g. Input: 5\n",
    "        # Output: [1, 8, 27, 64, 125]  #Cube of numbers from 1 to 5 where 5 is the input from the user\n",
    "    \n",
    "num= 5"
   ]
  },
  {
   "cell_type": "code",
   "execution_count": null,
   "id": "b496b183",
   "metadata": {},
   "outputs": [],
   "source": [
    "n = int(input(\"Enter a number: \"))\n",
    "\n",
    "cubes = []\n",
    "for i in range(1, n + 1):\n",
    "    cubes.append(i**3)\n",
    "\n",
    "print(cubes)\n"
   ]
  },
  {
   "cell_type": "code",
   "execution_count": null,
   "id": "b1f3caf5",
   "metadata": {},
   "outputs": [],
   "source": [
    "# WAP to print even numbers in a given range in reverse order. Take the range from the user.\n",
    "\n",
    "# For e.g. Input: start = 3\n",
    "  #              End = 14\n",
    "   #     Output: 14, 12, 10, 8, 6, 4\n",
    "\n",
    "start_no =  int(input(\"Enter the starting number: \"))\n",
    "\n",
    "end = int(input(\"Enter the ending number: \"))\n",
    "\n",
    "for i in range(end, start_no, -1 ) :\n",
    "    if i % 2 == 0 :\n",
    "        print(i,end=\" ,\")\n",
    "\n",
    "\n",
    "\n",
    "\n",
    "\n"
   ]
  },
  {
   "cell_type": "code",
   "execution_count": null,
   "id": "08c39a1b",
   "metadata": {},
   "outputs": [],
   "source": [
    " #WAP to print odd numbers in a given range in reverse order.\n",
    "#Take the range from the user.\n",
    "\n",
    "#For e.g. Input: start = 3\n",
    " #               End = 14\n",
    "  #      Output: 13, 11, 9, 7, 5, 3\n",
    "\n",
    "Start =2\n",
    "End = 14\n",
    "\n",
    "for i in range(End, Start,-1) :\n",
    "    if i % 2 != 0 :\n",
    "        print(i,end=\",\")"
   ]
  },
  {
   "cell_type": "code",
   "execution_count": null,
   "id": "b1ff2f9d",
   "metadata": {},
   "outputs": [],
   "source": [
    "#WAP to print multiplication table of a number taken as input from the user.\n",
    "\n",
    "#For e.g. Input: 5\n",
    " #       Output: 5*1 = 5\n",
    "  #              5*2 = 10\n",
    "\n",
    "\n",
    "num= int(input(\"enter no\"))\n",
    "for i in range(1,11) :\n",
    "    print(f\"{num} * {i} = {num * i} \")\n",
    "    "
   ]
  },
  {
   "cell_type": "code",
   "execution_count": null,
   "id": "6dafd1a3",
   "metadata": {},
   "outputs": [],
   "source": [
    "# wAP to print the following pattern\n",
    "#1\n",
    "#1 2\n",
    "#1 2 3\n",
    "#1 2 3 4\n",
    "\n",
    "for i in range(1,5) :\n",
    "    for j in range(1, i+ 1) :\n",
    "        print(j, end=' ')\n",
    "    \n",
    "    \n",
    "    print()\n",
    "   \n",
    "\n"
   ]
  },
  {
   "cell_type": "code",
   "execution_count": null,
   "id": "be0e9bc6",
   "metadata": {},
   "outputs": [],
   "source": [
    "for i in range(1, 5):\n",
    "    if i == (1, i+1):\n",
    "        \n",
    "        print(i)\n",
    "    \n"
   ]
  },
  {
   "cell_type": "markdown",
   "id": "e82da48e",
   "metadata": {},
   "source": [
    "#L11 E\n",
    "#Accept n numbers from the user and display their average. n is input from the user.\n",
    "\n",
    "#For example:\n",
    "    Input: n = 5\n",
    "input_list = 3, 6, 2, 9, 0\n",
    "\n",
    "input= \n",
    "\n",
    "\n"
   ]
  },
  {
   "cell_type": "code",
   "execution_count": 18,
   "id": "fac6c7f3",
   "metadata": {},
   "outputs": [
    {
     "name": "stdout",
     "output_type": "stream",
     "text": [
      "Enter the Input no :5\n",
      "Enter the no :3\n",
      "Enter the no :6\n",
      "Enter the no :2\n",
      "Enter the no :9\n",
      "Enter the no :0\n",
      "20.0\n",
      "the average of the no is  4.0\n"
     ]
    }
   ],
   "source": [
    "#L11 E\n",
    "#Accept n numbers from the user and display their average. n is input from the user.\n",
    "\n",
    "#For example:\n",
    "#    Input: n = 5\n",
    " #       Numbers = 3, 6, 2, 9, 0\n",
    "  #  Output: Average = 4.0\n",
    "            \n",
    "n= int(input(\"Enter the Input no :\"))\n",
    "numbers =[]\n",
    "for i in range(n) :\n",
    "    num= float(input(\"Enter the no :\"))\n",
    "    numbers.append(num)\n",
    "    \n",
    "total= sum(numbers)    \n",
    "print(total)\n",
    "            \n",
    "Average= total/n\n",
    "print(\"the average of the no is \",Average)\n",
    "            "
   ]
  },
  {
   "cell_type": "code",
   "execution_count": 30,
   "id": "4dc372a6",
   "metadata": {},
   "outputs": [
    {
     "data": {
      "text/plain": [
       "{'p': 1,\n",
       " 'y': 1,\n",
       " 't': 2,\n",
       " 'h': 1,\n",
       " 'o': 1,\n",
       " 'n': 1,\n",
       " ' ': 2,\n",
       " 'i': 1,\n",
       " 's': 1,\n",
       " 'g': 1,\n",
       " 'r': 1,\n",
       " 'e': 1,\n",
       " 'a': 1}"
      ]
     },
     "execution_count": 30,
     "metadata": {},
     "output_type": "execute_result"
    }
   ],
   "source": [
    "#S1 E\n",
    "#Write a Python program to count the number of each of the characters (character frequency) \n",
    " #  in a string input by the user. Ignore the case.\n",
    "  # For example: Input: \"Python is great\"\n",
    "\t#\tOutput: P = 1, y = 1, t = 2, and so on...\n",
    "    \n",
    "Input= \"python is great\"\n",
    "\n",
    "    \n",
    "dt={}\n",
    "for s in Input:\n",
    "    dt[s]=Input.count(s)\n",
    "dt\n"
   ]
  },
  {
   "cell_type": "code",
   "execution_count": 43,
   "id": "af27de05",
   "metadata": {},
   "outputs": [
    {
     "data": {
      "text/plain": [
       "' 0167'"
      ]
     },
     "execution_count": 43,
     "metadata": {},
     "output_type": "execute_result"
    }
   ],
   "source": [
    "#Write a Python program to find the digits which are absent in a given mobile number.\n",
    "\n",
    "#   For example: Input : 9354328855\n",
    "#                Output: 0167\n",
    "\n",
    "Input= 9354328855\n",
    "\n",
    "finalstring = \" \"\n",
    "for i in range(10) :\n",
    "    if str(i) not in str(Input) :\n",
    "        finalstring = finalstring + str(i)\n",
    "        \n",
    "finalstring   "
   ]
  },
  {
   "cell_type": "code",
   "execution_count": 56,
   "id": "834e6f75",
   "metadata": {},
   "outputs": [
    {
     "name": "stdout",
     "output_type": "stream",
     "text": [
      "['p', 'y', 't', 'h', 'o', 'n']\n"
     ]
    },
    {
     "data": {
      "text/plain": [
       "['h', 'n', 'o', 'p', 't', 'y']"
      ]
     },
     "execution_count": 56,
     "metadata": {},
     "output_type": "execute_result"
    }
   ],
   "source": [
    "#S4 E\n",
    "# WAP in python that accepts a hyphen-separated sequence of \n",
    "# words as input and prints the words in a hyphen-separated \n",
    "# sequence after sorting them alphabetically.\n",
    "\n",
    "#For e.g. Input: \"p-y-t-h-o-n\"\n",
    "       # Output: ['h', 'n','o', 'p', 't', 'y']\n",
    "    \n",
    "Input = \"p-y-t-h-o-n\" \n",
    "output = Input.split('-')\n",
    "print(output)\n",
    "sorted(output)\n",
    "\n"
   ]
  },
  {
   "cell_type": "code",
   "execution_count": null,
   "id": "6b05ce87",
   "metadata": {},
   "outputs": [],
   "source": [
    "input_string = input(\"Enter numbers separated by commas: \")\n",
    "input_list = input_string.split(\",\")\n",
    "numbers = [int(num) for num in input_list]\n",
    "output= \" \"str.join()[numbers]\n"
   ]
  },
  {
   "cell_type": "code",
   "execution_count": 59,
   "id": "0b8411b8",
   "metadata": {},
   "outputs": [
    {
     "name": "stdout",
     "output_type": "stream",
     "text": [
      "strings are same\n"
     ]
    }
   ],
   "source": [
    "#S7 E\n",
    "#WAP in python to compare two strings and tell the user if both of those strings are same or not. \n",
    "#Ignore their case.\n",
    "\n",
    "#Example: Input String1: \"Hello\"\n",
    "#\tInput String2: \"hello\"\n",
    "#\tOutput: Strings are same\n",
    "        \n",
    "string1= \"HELLO\"\n",
    "string2= \"hello\"\n",
    "\n",
    "if string1.capitalize() == string2.capitalize() :\n",
    "    print(\"strings are same\")\n",
    "    \n",
    "else :\n",
    "    print(\"strings are not same\")\n"
   ]
  },
  {
   "cell_type": "code",
   "execution_count": 108,
   "id": "3188e691",
   "metadata": {},
   "outputs": [
    {
     "name": "stdout",
     "output_type": "stream",
     "text": [
      "enter the string :Neil Nitin Mukesh\n",
      "N : 2\n"
     ]
    }
   ],
   "source": [
    "#S8 E\n",
    "#WAP in python to calculate the number of times a character is repeated in a given string.\n",
    "#Take the string and character from the user.\n",
    "\n",
    "#Example: Input String: \"Neil Nitin Mukesh\"\n",
    " #       Input Character: \"e\"\n",
    "  #      Output: 2\n",
    "\n",
    "mystring = str(input(\"enter the string :\"))\n",
    "\n",
    "if \"N\" in mystring :\n",
    "    print(\"N :\",mystring.count(\"N\"))\n",
    "\n",
    "    \n",
    "    \n"
   ]
  },
  {
   "cell_type": "code",
   "execution_count": 111,
   "id": "2e31585e",
   "metadata": {},
   "outputs": [
    {
     "name": "stdout",
     "output_type": "stream",
     "text": [
      "Enter a string: Neil Nitin Mukesh\n",
      "Enter a character: e\n",
      "The character 'e' is repeated 2 times in the string 'Neil Nitin Mukesh'.\n"
     ]
    }
   ],
   "source": [
    "string = input(\"Enter a string: \")\n",
    "char = input(\"Enter a character: \")\n",
    "\n",
    "count = 0\n",
    "\n",
    "for c in string:\n",
    "    if c == char:\n",
    "        count += 1\n",
    "\n",
    "print(f\"The character '{char}' is repeated {count} times in the string '{string}'.\")\n"
   ]
  },
  {
   "cell_type": "code",
   "execution_count": 113,
   "id": "27010c76",
   "metadata": {},
   "outputs": [
    {
     "name": "stdout",
     "output_type": "stream",
     "text": [
      "Pto\n"
     ]
    }
   ],
   "source": [
    "#S9 E\n",
    "#WAP in python which accepts string from the user and displays only those characters/elements which are present at an even index.\n",
    "\n",
    "#Example: \n",
    "#    Input: \"Python\"\n",
    "#    Output: Pto\n",
    "\n",
    "Input = \"Python\"\n",
    "\n",
    "output= Input[0 :  : 2]\n",
    "print(output)\n",
    "\n",
    "\n",
    "\n"
   ]
  },
  {
   "cell_type": "code",
   "execution_count": 115,
   "id": "4db2310b",
   "metadata": {},
   "outputs": [
    {
     "name": "stdout",
     "output_type": "stream",
     "text": [
      "First Last\n"
     ]
    }
   ],
   "source": [
    "#S10 E\n",
    "#WAP in python to capitalize the first letter of the First Name and Surname where whole name is taken as input from the user.\n",
    "\n",
    "#Example: Input: \"first last\" or \"FIRST LAST\" or \"first lAst\" i.e. Input can be in any case.\n",
    "#        Output: \"First Last\"\n",
    "\n",
    "strings= \"first last\" or \"FIRST LAST\" or \"first lAst\"\n",
    "\n",
    "output= strings.title()\n",
    "print(output)\n"
   ]
  },
  {
   "cell_type": "code",
   "execution_count": 129,
   "id": "984f2043",
   "metadata": {},
   "outputs": [
    {
     "name": "stdout",
     "output_type": "stream",
     "text": [
      "enter string : red, white, black, red, green\n"
     ]
    },
    {
     "data": {
      "text/plain": [
       "[' black', ' green', ' red', ' red', ' white']"
      ]
     },
     "execution_count": 129,
     "metadata": {},
     "output_type": "execute_result"
    }
   ],
   "source": [
    "#S11 EM\n",
    "#Write a Python program that accepts a comma separated sequence of words as input and \n",
    "#prints the unique words in sorted form (alphanumerically).\n",
    "\n",
    "#\tSample Words : red, white, black, red, green    \n",
    "#\tExpected Result : black, green, red, red, white\n",
    "\n",
    "words = input(\"enter string :\")\n",
    "result= words.split(',')\n",
    "sorted(result)\n",
    "\n",
    "\n",
    "\n"
   ]
  },
  {
   "cell_type": "code",
   "execution_count": 130,
   "id": "86580422",
   "metadata": {},
   "outputs": [
    {
     "data": {
      "text/plain": [
       "{'t': 2,\n",
       " 'h': 2,\n",
       " 'e': 3,\n",
       " 'q': 1,\n",
       " 'u': 2,\n",
       " 'i': 1,\n",
       " 'c': 1,\n",
       " 'k': 1,\n",
       " 'b': 1,\n",
       " 'r': 2,\n",
       " 'o': 4,\n",
       " 'w': 1,\n",
       " 'n': 1,\n",
       " 'f': 1,\n",
       " 'x': 1,\n",
       " 'j': 1,\n",
       " 'm': 1,\n",
       " 'p': 1,\n",
       " 's': 1,\n",
       " 'v': 1,\n",
       " 'l': 1,\n",
       " 'a': 1,\n",
       " 'z': 1,\n",
       " 'y': 1,\n",
       " 'd': 1,\n",
       " 'g': 1}"
      ]
     },
     "execution_count": 130,
     "metadata": {},
     "output_type": "execute_result"
    }
   ],
   "source": [
    "#Write a Python program to count repeated characters in a string.\n",
    "\n",
    "#\tSample string: 'thequickbrownfoxjumpsoverthelazydog'\n",
    "#\tExpected output :\n",
    "#\t\t\to 4\n",
    "#\t\t\te 3\n",
    "#\t\t\tu 2\n",
    "#\t\t\th 2\n",
    "#\t\t\tr 2\n",
    "#\t\t\tt 2\n",
    "\n",
    "givenstring= 'thequickbrownfoxjumpsoverthelazydog'\n",
    "\n",
    "dt= {}\n",
    "\n",
    "for i in givenstring :\n",
    "    dt[i] = givenstring.count(i)\n",
    "    \n",
    "dt"
   ]
  },
  {
   "cell_type": "code",
   "execution_count": 121,
   "id": "169d9343",
   "metadata": {},
   "outputs": [
    {
     "name": "stdout",
     "output_type": "stream",
     "text": [
      "Enter a comma separated sequence of words:  red, white, black, red, green\n",
      "Unique words in sorted form:   black,  green,  red,  white\n"
     ]
    }
   ],
   "source": [
    "words = input(\"Enter a comma separated sequence of words: \")\n",
    "words_list = words.split(\",\")\n",
    "unique_words = sorted(set(words_list))\n",
    "result = \", \".join(unique_words)\n",
    "print(\"Unique words in sorted form: \", result)\n"
   ]
  }
 ],
 "metadata": {
  "kernelspec": {
   "display_name": "Python 3 (ipykernel)",
   "language": "python",
   "name": "python3"
  },
  "language_info": {
   "codemirror_mode": {
    "name": "ipython",
    "version": 3
   },
   "file_extension": ".py",
   "mimetype": "text/x-python",
   "name": "python",
   "nbconvert_exporter": "python",
   "pygments_lexer": "ipython3",
   "version": "3.9.13"
  }
 },
 "nbformat": 4,
 "nbformat_minor": 5
}
